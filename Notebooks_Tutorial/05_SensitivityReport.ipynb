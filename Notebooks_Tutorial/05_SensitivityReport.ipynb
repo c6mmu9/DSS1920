{
 "cells": [
  {
   "cell_type": "markdown",
   "metadata": {},
   "source": [
    "This lecture and tutorial will not cover how to install other solvers or how to generate such sensitivity reports, but you must be able to interpret them.\n"
   ]
  },
  {
   "cell_type": "code",
   "execution_count": 1,
   "metadata": {},
   "outputs": [],
   "source": [
    "from gurobipy import *\n",
    "from prettytable import PrettyTable"
   ]
  },
  {
   "cell_type": "markdown",
   "metadata": {},
   "source": [
    "We load our PuLP Model:"
   ]
  },
  {
   "cell_type": "code",
   "execution_count": 2,
   "metadata": {},
   "outputs": [
    {
     "name": "stdout",
     "output_type": "stream",
     "text": [
      "Academic license - for non-commercial use only\n",
      "Read LP format model from file ../Data/VehicleManufacturing.lp\n",
      "Reading time = 0.01 seconds\n",
      "OBJ: 6 rows, 3 columns, 10 nonzeros\n"
     ]
    }
   ],
   "source": [
    "#m = read(\"../Data/Bartender.lp\")\n",
    "m = read(\"../Data/VehicleManufacturing.lp\")\n",
    "#m = read(\"../Data/ComputerProduction.lp\")"
   ]
  },
  {
   "cell_type": "code",
   "execution_count": 3,
   "metadata": {},
   "outputs": [
    {
     "name": "stdout",
     "output_type": "stream",
     "text": [
      "Optimize a model with 6 rows, 3 columns and 10 nonzeros\n",
      "Coefficient statistics:\n",
      "  Matrix range     [6e-01, 3e+00]\n",
      "  Objective range  [5e+01, 4e+02]\n",
      "  Bounds range     [0e+00, 0e+00]\n",
      "  RHS range        [3e+01, 3e+02]\n",
      "Presolve removed 3 rows and 0 columns\n",
      "Presolve time: 0.02s\n",
      "Presolved: 3 rows, 3 columns, 7 nonzeros\n",
      "\n",
      "Iteration    Objective       Primal Inf.    Dual Inf.      Time\n",
      "       0    3.3127727e+04   1.305018e+00   0.000000e+00      0s\n",
      "       1    3.2540000e+04   0.000000e+00   0.000000e+00      0s\n",
      "\n",
      "Solved in 1 iterations and 0.03 seconds\n",
      "Optimal objective  3.254000000e+04\n",
      "Variable Information Including Sensitivity Information:\n",
      "+---------------+--------------------+-------------+----------+---------+\n",
      "| Variable Name |        Value       | ReducedCost |  SensLow |  SensUp |\n",
      "+---------------+--------------------+-------------+----------+---------+\n",
      "|   machines_1  |        98.0        |     0.0     |  -400.0  |  1e+100 |\n",
      "|  production_c |        88.0        |     0.0     | -1e+100  |  320.0  |\n",
      "|  production_t | 27.599999999999994 |     0.0     |  375.0   |  1e+100 |\n",
      "+---------------+--------------------+-------------+----------+---------+\n",
      "Constraint Information Including Sensitivity Information:\n",
      "+------------------+--------------+---------------------+---------------------+--------------------+\n",
      "| Constraint Name  | Shadow Price |         Slack       |      Lower Range    |     Upper Range    |\n",
      "+------------------+--------------+---------------------+---------------------+--------------------+\n",
      "|  days_machine1   |    400.0     |         0.0         | -1.5999999999999943 | 0.4000000000000057 |\n",
      "|  days_machine2   |     0.0      |  0.8800000000000097 |  72.11999999999999  |       1e+100       |\n",
      "|     min_cars     |    -20.0     |         0.0         |  84.99999999999996  |        90.0        |\n",
      "|    min_trucks    |     0.0      | -1.5999999999999943 |       -1e+100       | 27.599999999999994 |\n",
      "| numbers_machine1 |    350.0     |         0.0         |         96.4        |        98.4        |\n",
      "|      steel       |     0.0      |  1.200000000000017  |  258.79999999999995 |       1e+100       |\n",
      "+------------------+--------------+---------------------+---------------------+--------------------+\n"
     ]
    }
   ],
   "source": [
    "m.optimize()\n",
    "\n",
    "print('Variable Information Including Sensitivity Information:')\n",
    "tVars = PrettyTable(['Variable Name', ' Value', 'ReducedCost', ' SensLow', ' SensUp'])\n",
    "for v in m.getVars():\n",
    "    tVars.add_row([v.varName, v.x, v.RC, v.SAObjLow, v.SAObjUp])\n",
    "    \n",
    "print(tVars)\n",
    "\n",
    "print('Constraint Information Including Sensitivity Information:')\n",
    "tConstrs = PrettyTable(['Constraint Name', 'Shadow Price', ' Slack', ' Lower Range', ' Upper Range'])\n",
    "for c in m.getConstrs():\n",
    "    tConstrs.add_row([c.ConstrName, c.Pi, c.Slack, c.SARHSLow, c.SARHSUp])\n",
    "    \n",
    "print(tConstrs)"
   ]
  }
 ],
 "metadata": {
  "kernelspec": {
   "display_name": "Python 3",
   "language": "python",
   "name": "python3"
  },
  "language_info": {
   "codemirror_mode": {
    "name": "ipython",
    "version": 3
   },
   "file_extension": ".py",
   "mimetype": "text/x-python",
   "name": "python",
   "nbconvert_exporter": "python",
   "pygments_lexer": "ipython3",
   "version": "3.7.1"
  },
  "toc": {
   "base_numbering": 1,
   "nav_menu": {},
   "number_sections": true,
   "sideBar": true,
   "skip_h1_title": false,
   "title_cell": "Table of Contents",
   "title_sidebar": "Contents",
   "toc_cell": false,
   "toc_position": {},
   "toc_section_display": true,
   "toc_window_display": false
  }
 },
 "nbformat": 4,
 "nbformat_minor": 2
}
