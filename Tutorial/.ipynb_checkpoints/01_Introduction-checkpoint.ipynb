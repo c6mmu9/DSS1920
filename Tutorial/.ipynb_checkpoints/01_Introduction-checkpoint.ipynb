{
 "cells": [
  {
   "cell_type": "markdown",
   "metadata": {
    "slideshow": {
     "slide_type": "slide"
    }
   },
   "source": [
    "<div class='bar_title'></div>\n",
    "\n",
    "*Practical Data Science*\n",
    "\n",
    "# Introduction\n",
    "\n",
    "Nikolai Stein / Matthias Griebel<br>\n",
    "Chair of Information Systems and Management\n",
    "\n",
    "Winter Semester 19/20"
   ]
  },
  {
   "cell_type": "code",
   "execution_count": null,
   "metadata": {},
   "outputs": [],
   "source": []
  },
  {
   "cell_type": "markdown",
   "metadata": {
    "slideshow": {
     "slide_type": "subslide"
    },
    "toc": true
   },
   "source": [
    "<h1>Table of Contents<span class=\"tocSkip\"></span></h1>\n",
    "<div class=\"toc\"><ul class=\"toc-item\"><li><span><a href=\"#Chair-of-Information-Systems-and-Management\" data-toc-modified-id=\"Chair-of-Information-Systems-and-Management-1\"><span class=\"toc-item-num\">1&nbsp;&nbsp;</span>Chair of Information Systems and Management</a></span><ul class=\"toc-item\"><li><span><a href=\"#Team\" data-toc-modified-id=\"Team-1.1\"><span class=\"toc-item-num\">1.1&nbsp;&nbsp;</span>Team</a></span></li><li><span><a href=\"#Research-Areas\" data-toc-modified-id=\"Research-Areas-1.2\"><span class=\"toc-item-num\">1.2&nbsp;&nbsp;</span>Research Areas</a></span></li><li><span><a href=\"#Master-Teaching-Program\" data-toc-modified-id=\"Master-Teaching-Program-1.3\"><span class=\"toc-item-num\">1.3&nbsp;&nbsp;</span>Master Teaching Program</a></span></li></ul></li><li><span><a href=\"#Course-Organization\" data-toc-modified-id=\"Course-Organization-2\"><span class=\"toc-item-num\">2&nbsp;&nbsp;</span>Course Organization</a></span><ul class=\"toc-item\"><li><span><a href=\"#Learning-Objective\" data-toc-modified-id=\"Learning-Objective-2.1\"><span class=\"toc-item-num\">2.1&nbsp;&nbsp;</span>Learning Objective</a></span></li><li><span><a href=\"#Tentative-Schedule-of-Topics\" data-toc-modified-id=\"Tentative-Schedule-of-Topics-2.2\"><span class=\"toc-item-num\">2.2&nbsp;&nbsp;</span>Tentative Schedule of Topics</a></span></li></ul></li><li><span><a href=\"#Programming-Language-(Python)\" data-toc-modified-id=\"Programming-Language-(Python)-3\"><span class=\"toc-item-num\">3&nbsp;&nbsp;</span>Programming Language (Python)</a></span><ul class=\"toc-item\"><li><span><a href=\"#Why-Python?\" data-toc-modified-id=\"Why-Python?-3.1\"><span class=\"toc-item-num\">3.1&nbsp;&nbsp;</span>Why Python?</a></span></li><li><span><a href=\"#Job-Opportunities-with-Python\" data-toc-modified-id=\"Job-Opportunities-with-Python-3.2\"><span class=\"toc-item-num\">3.2&nbsp;&nbsp;</span>Job Opportunities with Python</a></span></li></ul></li><li><span><a href=\"#Next-Steps\" data-toc-modified-id=\"Next-Steps-4\"><span class=\"toc-item-num\">4&nbsp;&nbsp;</span>Next Steps</a></span></li></ul></div>"
   ]
  },
  {
   "cell_type": "markdown",
   "metadata": {
    "slideshow": {
     "slide_type": "slide"
    }
   },
   "source": [
    "## Chair of Information Systems and Management"
   ]
  },
  {
   "cell_type": "markdown",
   "metadata": {
    "slideshow": {
     "slide_type": "subslide"
    }
   },
   "source": [
    "### Team"
   ]
  },
  {
   "cell_type": "markdown",
   "metadata": {
    "slideshow": {
     "slide_type": "fragment"
    }
   },
   "source": [
    "<img src=\"images/01/team.pdf\" style=\"width:70%\">"
   ]
  },
  {
   "cell_type": "markdown",
   "metadata": {
    "slideshow": {
     "slide_type": "subslide"
    }
   },
   "source": [
    "### Research Areas"
   ]
  },
  {
   "cell_type": "markdown",
   "metadata": {
    "hide_input": true,
    "slideshow": {
     "slide_type": "fragment"
    }
   },
   "source": [
    "<img src=\"images/01/research.pdf\" style=\"width:80%\">"
   ]
  },
  {
   "cell_type": "markdown",
   "metadata": {
    "slideshow": {
     "slide_type": "subslide"
    }
   },
   "source": [
    "### Master Teaching Program"
   ]
  },
  {
   "cell_type": "markdown",
   "metadata": {
    "hide_input": true,
    "slideshow": {
     "slide_type": "fragment"
    }
   },
   "source": [
    "<img src=\"images/01/courses_master.pdf\" style=\"width:100%\">"
   ]
  },
  {
   "cell_type": "markdown",
   "metadata": {
    "slideshow": {
     "slide_type": "slide"
    }
   },
   "source": [
    "## Course Organization"
   ]
  },
  {
   "cell_type": "markdown",
   "metadata": {
    "cell_style": "split",
    "slideshow": {
     "slide_type": "fragment"
    }
   },
   "source": [
    " -  Classes\n",
    "    - Lecture: \tTuesday\t10:15 – 11:45, Room 409 - Neue Universität\n",
    "    - Tutorial: Office Hours (after lecture?)\n",
    "    \n",
    "    \n",
    " -  Self-study and Tutorial\n",
    "    -  Work on weekly assignments and programming examples\n",
    "    -  Worksheet submissions are mandatory\n"
   ]
  },
  {
   "cell_type": "markdown",
   "metadata": {
    "cell_style": "split",
    "slideshow": {
     "slide_type": "fragment"
    }
   },
   "source": [
    "-  Graded capstone group project     \n",
    "    -  Work on a real-world problem set\n",
    "    -  Groups of 3 students\n",
    "    -  Regular submissions \n",
    "    \n",
    "-  WueCampus      \n",
    "    - Forum and information\n",
    "    -  Access Code: PDS1920\n",
    "    \n",
    "- Github\n",
    "    - Slides and worksheets     \n",
    "    -  Submission of solutions  "
   ]
  },
  {
   "cell_type": "markdown",
   "metadata": {
    "slideshow": {
     "slide_type": "subslide"
    }
   },
   "source": [
    "### Learning Objective"
   ]
  },
  {
   "cell_type": "markdown",
   "metadata": {
    "slideshow": {
     "slide_type": "fragment"
    }
   },
   "source": [
    "* The foundations, frameworks and applications of the emerging field of data science\n",
    "\n",
    "\n",
    "* Design, implement, and evaluate the core algorithms underlying an end-to-end data science workflow, including data import, analysis, and presentation of information\n",
    "\n",
    "\n",
    "* Leverage the Python application programming interface (API) ecosystem and data infrastructure that supports data acquisition, storage, retrieval and analysis\n",
    "\n",
    "\n",
    "* The application of a data-based analytical approach to identify and solve problems\n",
    "\n",
    "\n",
    "* Implementation and execution skills for data-driven business analytics"
   ]
  },
  {
   "cell_type": "markdown",
   "metadata": {
    "slideshow": {
     "slide_type": "slide"
    }
   },
   "source": [
    "### Tentative Schedule of Topics"
   ]
  },
  {
   "cell_type": "markdown",
   "metadata": {
    "slideshow": {
     "slide_type": "fragment"
    }
   },
   "source": [
    "1. Common data science environments (Markdown, Git, Jupyter, Colab)\n",
    "\n",
    "2. Python fundamentals and EDA\n",
    "\n",
    "3. tbd"
   ]
  },
  {
   "cell_type": "markdown",
   "metadata": {
    "slideshow": {
     "slide_type": "slide"
    }
   },
   "source": [
    "## Programming Language (Python)"
   ]
  },
  {
   "cell_type": "markdown",
   "metadata": {
    "slideshow": {
     "slide_type": "fragment"
    }
   },
   "source": [
    "__Python is becoming the world’s most popular coding language__\n",
    "<img src=\"images/01/programming_economist.png\" style=\"width:30%\">\n",
    "\n",
    "Source: [The Economist](https://www.economist.com/graphic-detail/2018/07/26/python-is-becoming-the-worlds-most-popular-coding-language)"
   ]
  },
  {
   "cell_type": "markdown",
   "metadata": {
    "slideshow": {
     "slide_type": "subslide"
    }
   },
   "source": [
    "### Why Python?\n",
    "\n",
    "While there are several great languages for data analysis (such as R, Julia, Scala, ...) we decided to use python for this class because of the following reasons:\n",
    "\n",
    "* Excellent interactive shell and a large collection of open source packages\n",
    "\n",
    "* Very simple syntax\n",
    "\n",
    "* Simple enough for things to happen quickly and powerful enough to allow the implementation of the most complex ideas\n",
    "\n",
    "* Several highly optimized machine learning libraries that you can drag and drop into your code even if you know a minimum of Python\n",
    "\n",
    "* Good visualization capabilities (but not as great as R)"
   ]
  },
  {
   "cell_type": "markdown",
   "metadata": {
    "slideshow": {
     "slide_type": "subslide"
    }
   },
   "source": [
    "### Job Opportunities with Python"
   ]
  },
  {
   "cell_type": "markdown",
   "metadata": {
    "hide_input": true,
    "slideshow": {
     "slide_type": "fragment"
    }
   },
   "source": [
    "<img src=\"images/01/McKinsey.png\" style=\"width:60%\">"
   ]
  },
  {
   "cell_type": "markdown",
   "metadata": {
    "hide_input": true,
    "slideshow": {
     "slide_type": "subslide"
    }
   },
   "source": [
    "<img src=\"images/01/Stellen.png\" style=\"width:80%\">"
   ]
  },
  {
   "cell_type": "markdown",
   "metadata": {
    "slideshow": {
     "slide_type": "slide"
    }
   },
   "source": [
    "## Next Steps"
   ]
  },
  {
   "cell_type": "markdown",
   "metadata": {
    "slideshow": {
     "slide_type": "fragment"
    }
   },
   "source": [
    "What projects are you interested in?\n",
    "\n",
    "1. Deep learning on image data\n",
    "2. Deep learning on text data\n",
    "2. Advanced machine learning on tabular data"
   ]
  },
  {
   "cell_type": "markdown",
   "metadata": {
    "slideshow": {
     "slide_type": "fragment"
    }
   },
   "source": [
    "What prior programming experience do you have?"
   ]
  },
  {
   "cell_type": "markdown",
   "metadata": {
    "slideshow": {
     "slide_type": "fragment"
    }
   },
   "source": [
    "Register for a capstone project group in the WueCampus class room until Monday 21.10.2019 12.00 PM\n",
    "    - At most 3 students per group\n",
    "    - If groups are not full we will try to merge them in order to fill the gaps"
   ]
  }
 ],
 "metadata": {
  "celltoolbar": "Slideshow",
  "kernelspec": {
   "display_name": "Python 3",
   "language": "python",
   "name": "python3"
  },
  "language_info": {
   "codemirror_mode": {
    "name": "ipython",
    "version": 3
   },
   "file_extension": ".py",
   "mimetype": "text/x-python",
   "name": "python",
   "nbconvert_exporter": "python",
   "pygments_lexer": "ipython3",
   "version": "3.7.1"
  },
  "rise": {
   "enable_chalkboard": false,
   "overlay": "<div class='background'></div><div class='header'>WS 19/20</br>PDS</div><div class='logo'><img src='images/unilogo.png'></div><div class='bar'></div>",
   "scroll": true,
   "slideNumber": "h.v"
  },
  "toc": {
   "base_numbering": 1,
   "nav_menu": {},
   "number_sections": true,
   "sideBar": true,
   "skip_h1_title": true,
   "title_cell": "Table of Contents",
   "title_sidebar": "Contents",
   "toc_cell": true,
   "toc_position": {},
   "toc_section_display": true,
   "toc_window_display": false
  }
 },
 "nbformat": 4,
 "nbformat_minor": 2
}
