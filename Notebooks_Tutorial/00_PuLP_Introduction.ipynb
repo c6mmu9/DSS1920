{
 "cells": [
  {
   "cell_type": "markdown",
   "metadata": {
    "slideshow": {
     "slide_type": "-"
    }
   },
   "source": [
    "<div class='bar_title'></div>\n",
    "\n",
    "*Decision Support Systems*\n",
    "\n",
    "# PuLP Introduction\n",
    "\n",
    "Toni Greif<br>\n",
    "Chair of Information Systems and Management\n",
    "\n",
    "Winter Semester 19/20"
   ]
  },
  {
   "cell_type": "markdown",
   "metadata": {
    "slideshow": {
     "slide_type": "-"
    }
   },
   "source": [
    "Before each PuLP implementation the package must be installed (not necessary if you don't use the Colab enviroment) and imported."
   ]
  },
  {
   "cell_type": "code",
   "execution_count": 3,
   "metadata": {},
   "outputs": [
    {
     "name": "stdout",
     "output_type": "stream",
     "text": [
      "Requirement already satisfied: pulp in c:\\users\\toni greif\\anaconda3\\lib\\site-packages (1.6.10)\n",
      "Requirement already satisfied: pyparsing>=2.0.1 in c:\\users\\toni greif\\anaconda3\\lib\\site-packages (from pulp) (2.3.0)\n"
     ]
    }
   ],
   "source": [
    "!pip install pulp\n",
    "from pulp import *\n",
    "import pandas as pd"
   ]
  },
  {
   "cell_type": "markdown",
   "metadata": {
    "slideshow": {
     "slide_type": "slide"
    }
   },
   "source": [
    "## Example"
   ]
  },
  {
   "cell_type": "markdown",
   "metadata": {
    "slideshow": {
     "slide_type": "-"
    }
   },
   "source": [
    "A chocolate manufacturing company produces two types of chocolate – A and B. Both the chocolates require Milk and Choco only,\n",
    "\n",
    "\n",
    "- each unit of Milk costs \\\\$1 and each unit of Choco \\\\$1.5\n",
    "- each unit of A requires 1 unit of Milk and 3 units of Choco,\n",
    "- each unit of B requires 2 unit of Milk and 5 units of Choco.\n",
    "\n",
    "The company has a total of 5 units of Milk and 12 units of Choco.\n",
    "\n",
    "The company sells\n",
    "- each unit of A for \\\\$9\n",
    "- each unit of B for \\\\$7\n",
    "\n",
    "How many units of A and B should the company produce  to maximize its profit?"
   ]
  },
  {
   "cell_type": "markdown",
   "metadata": {
    "slideshow": {
     "slide_type": "-"
    }
   },
   "source": [
    "Our typical workflow will be the following:\n",
    "- Read the text carefully and try to identify the following elements\n",
    "    1. parameters\n",
    "    - decision variables\n",
    "    - objective\n",
    "    - constraints\n",
    "    \n",
    "- Try to formulate the complete optimization problem by hand"
   ]
  },
  {
   "cell_type": "markdown",
   "metadata": {
    "slideshow": {
     "slide_type": "-"
    }
   },
   "source": [
    "- Implement your model with the following steps\n",
    "    1. create the model\n",
    "    - set the parameters\n",
    "    - create the decision variables\n",
    "    - set the objective\n",
    "    - set the constraints\n",
    "    - solve the problem\n",
    "    - print the solution"
   ]
  },
  {
   "cell_type": "markdown",
   "metadata": {},
   "source": [
    "So let's start with our first model..."
   ]
  },
  {
   "cell_type": "code",
   "execution_count": null,
   "metadata": {},
   "outputs": [],
   "source": []
  }
 ],
 "metadata": {
  "celltoolbar": "Slideshow",
  "kernelspec": {
   "display_name": "Python 3",
   "language": "python",
   "name": "python3"
  },
  "language_info": {
   "codemirror_mode": {
    "name": "ipython",
    "version": 3
   },
   "file_extension": ".py",
   "mimetype": "text/x-python",
   "name": "python",
   "nbconvert_exporter": "python",
   "pygments_lexer": "ipython3",
   "version": "3.7.1"
  },
  "rise": {
   "enable_chalkboard": false,
   "overlay": "<div class='background'></div><div class='header'>WS 19/20</br>DSS</div><div class='logo'><img src='images/unilogo.png'></div><div class='bar'></div>",
   "scroll": true,
   "slideNumber": "h.v"
  }
 },
 "nbformat": 4,
 "nbformat_minor": 2
}
