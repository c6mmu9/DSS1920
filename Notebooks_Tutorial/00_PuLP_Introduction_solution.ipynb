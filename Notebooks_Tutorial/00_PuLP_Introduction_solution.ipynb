{
 "cells": [
  {
   "cell_type": "markdown",
   "metadata": {
    "slideshow": {
     "slide_type": "slide"
    }
   },
   "source": [
    "<div class='bar_title'></div>\n",
    "\n",
    "*Decision Support Systems*\n",
    "\n",
    "# PuLP Introduction\n",
    "\n",
    "Toni Greif<br>\n",
    "Chair of Information Systems and Management\n",
    "\n",
    "Winter Semester 19/20"
   ]
  },
  {
   "cell_type": "markdown",
   "metadata": {
    "slideshow": {
     "slide_type": "slide"
    }
   },
   "source": [
    "Before each PuLP implementation the package must be installed (not necessary if you don't use the Colab enviroment) and imported."
   ]
  },
  {
   "cell_type": "code",
   "execution_count": 3,
   "metadata": {},
   "outputs": [
    {
     "name": "stdout",
     "output_type": "stream",
     "text": [
      "Requirement already satisfied: pulp in c:\\users\\toni greif\\anaconda3\\lib\\site-packages (1.6.10)\n",
      "Requirement already satisfied: pyparsing>=2.0.1 in c:\\users\\toni greif\\anaconda3\\lib\\site-packages (from pulp) (2.3.0)\n"
     ]
    }
   ],
   "source": [
    "!pip install pulp\n",
    "from pulp import *\n",
    "import pandas as pd"
   ]
  },
  {
   "cell_type": "markdown",
   "metadata": {
    "slideshow": {
     "slide_type": "slide"
    }
   },
   "source": [
    "## Example"
   ]
  },
  {
   "cell_type": "markdown",
   "metadata": {
    "slideshow": {
     "slide_type": "-"
    }
   },
   "source": [
    "A chocolate manufacturing company produces two types of chocolate – A and B. Both the chocolates require Milk and Choco only,\n",
    "\n",
    "\n",
    "- each unit of Milk costs \\\\$1 and each unit of Choco \\\\$1.5\n",
    "- each unit of A requires 1 unit of Milk and 3 units of Choco,\n",
    "- each unit of B requires 2 unit of Milk and 5 units of Choco.\n",
    "\n",
    "The company has a total of 5 units of Milk and 12 units of Choco.\n",
    "\n",
    "The company sells\n",
    "- each unit of A for \\\\$9\n",
    "- each unit of B for \\\\$7\n",
    "\n",
    "How many units of A and B should the company produce  to maximize its profit?"
   ]
  },
  {
   "cell_type": "markdown",
   "metadata": {
    "cell_style": "split",
    "slideshow": {
     "slide_type": "subslide"
    }
   },
   "source": [
    "Our typical workflow will be the following:\n",
    "- Read the text carefully and try to identify the following elements\n",
    "    1. parameters\n",
    "    - decision variables\n",
    "    - objective\n",
    "    - constraints\n",
    "    \n",
    "- Try to formulate the complete optimization problem by hand"
   ]
  },
  {
   "cell_type": "markdown",
   "metadata": {
    "cell_style": "split",
    "slideshow": {
     "slide_type": "-"
    }
   },
   "source": [
    "- Implement your model with the following steps\n",
    "    1. create the model\n",
    "    - set the parameters\n",
    "    - create the decision variables\n",
    "    - set the objective\n",
    "    - set the constraints\n",
    "    - solve the problem\n",
    "    - print the solution"
   ]
  },
  {
   "cell_type": "markdown",
   "metadata": {
    "slideshow": {
     "slide_type": "subslide"
    }
   },
   "source": [
    "So let's start with our first model..."
   ]
  },
  {
   "cell_type": "code",
   "execution_count": 295,
   "metadata": {},
   "outputs": [],
   "source": [
    "# Create model\n",
    "prob = LpProblem(\"chocolate maufacturing\", sense=pulp.LpMaximize)"
   ]
  },
  {
   "cell_type": "code",
   "execution_count": 296,
   "metadata": {},
   "outputs": [],
   "source": [
    "# Set parameters\n",
    "## Creates a list of the chocolates and ingredients\n",
    "chocolates = ['A', 'B']\n",
    "ingredients = ['Milk', 'Choco']\n",
    "\n",
    "## Dictionaries of the costs, prices, milk and choco protion, maximal Ingredients are created\n",
    "costs = {'Milk': 0.1, \n",
    "         'Choco': 0.3}\n",
    "\n",
    "prices = {'A': 9,\n",
    "          'B': 14}\n",
    "\n",
    "portion = {'Milk': {'A': 1, 'B': 2},\n",
    "           'Choco': {'A': 3,'B': 2}}\n",
    "\n",
    "maxIngredients = {'Milk': 20, \n",
    "                  'Choco': 40}"
   ]
  },
  {
   "cell_type": "code",
   "execution_count": 297,
   "metadata": {
    "slideshow": {
     "slide_type": "subslide"
    }
   },
   "outputs": [],
   "source": [
    "# Create variables\n",
    "chocolates_vars = LpVariable.dicts(\"chocolates_production\", chocolates, lowBound=0, cat='Continuous')"
   ]
  },
  {
   "cell_type": "code",
   "execution_count": 298,
   "metadata": {},
   "outputs": [],
   "source": [
    "# Set objective\n",
    "prob += lpSum([chocolates_vars[chocolate] * prices[chocolate] for chocolate in chocolates]\n",
    "              +[chocolates_vars[chocolate] * portion[ingredient][chocolate] * -costs[ingredient]\n",
    "                 for chocolate in chocolates for ingredient in ingredients])"
   ]
  },
  {
   "cell_type": "code",
   "execution_count": 299,
   "metadata": {},
   "outputs": [],
   "source": [
    "# Set constraints\n",
    "for ingredient in ingredients:\n",
    "    prob += lpSum(chocolates_vars[chocolate] * portion[ingredient][chocolate]\n",
    "                  for chocolate in chocolates) <= maxIngredients[ingredient]"
   ]
  },
  {
   "cell_type": "markdown",
   "metadata": {},
   "source": [
    "The quantifiers have become `` for...in loops`` and the summations have become calls to ``lpSum``"
   ]
  },
  {
   "cell_type": "code",
   "execution_count": 300,
   "metadata": {
    "slideshow": {
     "slide_type": "subslide"
    }
   },
   "outputs": [
    {
     "data": {
      "text/plain": [
       "chocolate maufacturing:\n",
       "MAXIMIZE\n",
       "8.0*chocolates_production_A + 13.200000000000001*chocolates_production_B + 0.0\n",
       "SUBJECT TO\n",
       "_C1: chocolates_production_A + 2 chocolates_production_B <= 20\n",
       "\n",
       "_C2: 3 chocolates_production_A + 2 chocolates_production_B <= 40\n",
       "\n",
       "VARIABLES\n",
       "chocolates_production_A Continuous\n",
       "chocolates_production_B Continuous"
      ]
     },
     "execution_count": 300,
     "metadata": {},
     "output_type": "execute_result"
    }
   ],
   "source": [
    "prob"
   ]
  },
  {
   "cell_type": "code",
   "execution_count": 301,
   "metadata": {
    "slideshow": {
     "slide_type": "subslide"
    }
   },
   "outputs": [
    {
     "data": {
      "text/plain": [
       "'Optimal'"
      ]
     },
     "execution_count": 301,
     "metadata": {},
     "output_type": "execute_result"
    }
   ],
   "source": [
    "# Solve problem\n",
    "prob.solve()\n",
    "LpStatus[prob.status]"
   ]
  },
  {
   "cell_type": "code",
   "execution_count": 302,
   "metadata": {},
   "outputs": [
    {
     "name": "stdout",
     "output_type": "stream",
     "text": [
      "chocolates_production_A = 10.0\n",
      "chocolates_production_B = 5.0\n"
     ]
    }
   ],
   "source": [
    "for variable in prob.variables():\n",
    "    print (\"{} = {}\".format(variable.name, variable.varValue))"
   ]
  },
  {
   "cell_type": "code",
   "execution_count": 303,
   "metadata": {},
   "outputs": [
    {
     "name": "stdout",
     "output_type": "stream",
     "text": [
      "146.0\n"
     ]
    }
   ],
   "source": [
    "print (pulp.value(prob.objective))"
   ]
  },
  {
   "cell_type": "code",
   "execution_count": 304,
   "metadata": {
    "slideshow": {
     "slide_type": "skip"
    }
   },
   "outputs": [
    {
     "name": "stdout",
     "output_type": "stream",
     "text": [
      "                      name  reduced costs\n",
      "0  chocolates_production_A           -0.0\n",
      "1  chocolates_production_B           -0.0\n"
     ]
    }
   ],
   "source": [
    "o = [{'name':v.name, 'reduced costs':v.dj} for v in prob.variables()]\n",
    "print(pd.DataFrame(o))"
   ]
  },
  {
   "cell_type": "code",
   "execution_count": 305,
   "metadata": {
    "slideshow": {
     "slide_type": "skip"
    }
   },
   "outputs": [
    {
     "name": "stdout",
     "output_type": "stream",
     "text": [
      "  name  shadow price  slack\n",
      "0  _C1           5.9   -0.0\n",
      "1  _C2           0.7   -0.0\n"
     ]
    }
   ],
   "source": [
    "o = [{'name':name, 'shadow price':c.pi, 'slack': c.slack} for name, c in prob.constraints.items()]\n",
    "print(pd.DataFrame(o))"
   ]
  }
 ],
 "metadata": {
  "celltoolbar": "Slideshow",
  "kernelspec": {
   "display_name": "Python 3",
   "language": "python",
   "name": "python3"
  },
  "language_info": {
   "codemirror_mode": {
    "name": "ipython",
    "version": 3
   },
   "file_extension": ".py",
   "mimetype": "text/x-python",
   "name": "python",
   "nbconvert_exporter": "python",
   "pygments_lexer": "ipython3",
   "version": "3.7.1"
  },
  "rise": {
   "enable_chalkboard": false,
   "overlay": "<div class='background'></div><div class='header'>WS 19/20</br>DSS</div><div class='logo'><img src='images/unilogo.png'></div><div class='bar'></div>",
   "scroll": true,
   "slideNumber": "h.v"
  }
 },
 "nbformat": 4,
 "nbformat_minor": 2
}
