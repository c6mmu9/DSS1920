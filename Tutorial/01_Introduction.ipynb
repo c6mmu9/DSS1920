{
 "cells": [
  {
   "cell_type": "markdown",
   "metadata": {
    "slideshow": {
     "slide_type": "slide"
    }
   },
   "source": [
    "<div class='bar_title'></div>\n",
    "\n",
    "*Decision Support Systems*\n",
    "\n",
    "# Introduction\n",
    "\n",
    "Toni Greif<br>\n",
    "Chair of Information Systems and Management\n",
    "\n",
    "Winter Semester 19/20"
   ]
  },
  {
   "cell_type": "markdown",
   "metadata": {
    "slideshow": {
     "slide_type": "subslide"
    },
    "toc": true
   },
   "source": [
    "<h1>Table of Contents<span class=\"tocSkip\"></span></h1>\n",
    "<div class=\"toc\"><ul class=\"toc-item\"><li><span><a href=\"#Chair-of-Information-Systems-and-Management\" data-toc-modified-id=\"Chair-of-Information-Systems-and-Management-1\"><span class=\"toc-item-num\">1&nbsp;&nbsp;</span>Chair of Information Systems and Management</a></span><ul class=\"toc-item\"><li><span><a href=\"#Team\" data-toc-modified-id=\"Team-1.1\"><span class=\"toc-item-num\">1.1&nbsp;&nbsp;</span>Team</a></span></li><li><span><a href=\"#Research-Areas\" data-toc-modified-id=\"Research-Areas-1.2\"><span class=\"toc-item-num\">1.2&nbsp;&nbsp;</span>Research Areas</a></span></li><li><span><a href=\"#Master-Teaching-Program\" data-toc-modified-id=\"Master-Teaching-Program-1.3\"><span class=\"toc-item-num\">1.3&nbsp;&nbsp;</span>Master Teaching Program</a></span></li></ul></li><li><span><a href=\"#Course-Organization\" data-toc-modified-id=\"Course-Organization-2\"><span class=\"toc-item-num\">2&nbsp;&nbsp;</span>Course Organization</a></span><ul class=\"toc-item\"><li><span><a href=\"#Learning-Objective\" data-toc-modified-id=\"Learning-Objective-2.1\"><span class=\"toc-item-num\">2.1&nbsp;&nbsp;</span>Learning Objective</a></span></li><li><span><a href=\"#Tentative-Schedule-of-Topics\" data-toc-modified-id=\"Tentative-Schedule-of-Topics-2.2\"><span class=\"toc-item-num\">2.2&nbsp;&nbsp;</span>Tentative Schedule of Topics</a></span></li></ul></li><li><span><a href=\"#Programming-Language-(Python)\" data-toc-modified-id=\"Programming-Language-(Python)-3\"><span class=\"toc-item-num\">3&nbsp;&nbsp;</span>Programming Language (Python)</a></span><ul class=\"toc-item\"><li><span><a href=\"#Why-Python?\" data-toc-modified-id=\"Why-Python?-3.1\"><span class=\"toc-item-num\">3.1&nbsp;&nbsp;</span>Why Python?</a></span></li><li><span><a href=\"#Job-Opportunities-with-Python\" data-toc-modified-id=\"Job-Opportunities-with-Python-3.2\"><span class=\"toc-item-num\">3.2&nbsp;&nbsp;</span>Job Opportunities with Python</a></span></li></ul></li><li><span><a href=\"#Next-Steps\" data-toc-modified-id=\"Next-Steps-4\"><span class=\"toc-item-num\">4&nbsp;&nbsp;</span>Next Steps</a></span></li></ul></div>"
   ]
  },
  {
   "cell_type": "markdown",
   "metadata": {
    "slideshow": {
     "slide_type": "slide"
    }
   },
   "source": [
    "## Chair of Information Systems and Management"
   ]
  },
  {
   "cell_type": "markdown",
   "metadata": {
    "slideshow": {
     "slide_type": "subslide"
    }
   },
   "source": [
    "### Team"
   ]
  },
  {
   "cell_type": "markdown",
   "metadata": {
    "slideshow": {
     "slide_type": "fragment"
    }
   },
   "source": [
    "<img src=\"images/01/team.png\" style=\"width:80%\">"
   ]
  },
  {
   "cell_type": "markdown",
   "metadata": {
    "slideshow": {
     "slide_type": "subslide"
    }
   },
   "source": [
    "**Prof. Christoph M. Flath**\n",
    "- Since 04/2018 Full professor for Information Systems (JMU)\n",
    "- Research topics: Analytics, industrial internet applications, smart cities, digital retail\n",
    "- 06/2014-03/2018 Assistant Professor Operations Management (JMU)\n",
    "- 05/2009-06/2014 PhD in Information Systems and subsequent PostDoc appointment (KIT)\n",
    "- 10/2003-11/2008 Studies of Industrial Engineering and Management (KIT)\n",
    "\n",
    "**Toni Greif**\n",
    "- Since 09/2018 Research Assistant\n",
    "- Research topics: Optimization of various systems related to logistics, transportation and supply chains\n",
    "- Bachelor (Mathematics) and Master (Mathematics & Business Mathematics ) (JMU)\n"
   ]
  },
  {
   "cell_type": "markdown",
   "metadata": {
    "slideshow": {
     "slide_type": "subslide"
    }
   },
   "source": [
    "### Research Areas"
   ]
  },
  {
   "cell_type": "markdown",
   "metadata": {
    "hide_input": true,
    "slideshow": {
     "slide_type": "fragment"
    }
   },
   "source": [
    "<img src=\"images/01/research.png\" style=\"width:80%\">"
   ]
  },
  {
   "cell_type": "markdown",
   "metadata": {
    "slideshow": {
     "slide_type": "subslide"
    }
   },
   "source": [
    "### Master Teaching Program"
   ]
  },
  {
   "cell_type": "markdown",
   "metadata": {
    "hide_input": true,
    "slideshow": {
     "slide_type": "fragment"
    }
   },
   "source": [
    "<img src=\"images/01/courses_master.png\" style=\"width:100%\">"
   ]
  },
  {
   "cell_type": "markdown",
   "metadata": {},
   "source": [
    "Course objectives"
   ]
  },
  {
   "cell_type": "markdown",
   "metadata": {},
   "source": [
    "Understand the structure of classic business decision problems\n",
    "Develop the skills for simplifying real business problems and transform them into (quantitative) models\n",
    "Learn methods for solving and optimizing typical problem classes\n",
    "Gather experience in implementing Decision Support Systems using spreadsheets and other quantitative software tools\n"
   ]
  },
  {
   "cell_type": "markdown",
   "metadata": {
    "slideshow": {
     "slide_type": "slide"
    }
   },
   "source": [
    "## Course Organization"
   ]
  },
  {
   "cell_type": "markdown",
   "metadata": {
    "cell_style": "split",
    "slideshow": {
     "slide_type": "fragment"
    }
   },
   "source": []
  },
  {
   "cell_type": "code",
   "execution_count": null,
   "metadata": {},
   "outputs": [],
   "source": []
  },
  {
   "cell_type": "markdown",
   "metadata": {},
   "source": [
    "Integrated lecture & case studies.\n",
    "\n",
    "**Lecture** - *Wednesday 12:00 – 14:00, Großer Hörsaal 01.001 (Altes IHK-Gebäude)*\n",
    "\n",
    "Covers methodological background:\n",
    "- Modelling Approach\n",
    "- Solution Techniques\n",
    "- Application examples\n",
    "- Implementation and in-depth examples are relegated to tutorial\n",
    "\n",
    "**Tutorial** - *Thursday 12:00 – 14:00, CIP-Pool II (Altes IHK-Gebäude)*\n",
    "\n",
    "Two types of Tutorials:\n",
    "- Regular: Discussion of example questions and sample exam questions\n",
    "- Computer sessions: Implementation of sample problems using AMPL\n",
    "\n",
    "Exam bonus can be obtained by successfully completing the programming task at the end of the semester:\n",
    "- Before or after christmas?\n",
    "- Course groups registered for tutorial bonus need to prepare case study contents beforehand\n",
    "- Groups will be selected to present problem setting, data situation as well solution and implementation\n",
    "- Case study will connect to material of the latest lecture and hence it is ok not know everything!\n",
    "\n",
    "\n",
    "\n",
    "**WueCampus**\n",
    "- Lecture slides\n",
    "- Tutorial notebooks\n",
    "- Exercises and data sets\n",
    "- Forum for news and discussions\n",
    "- Access Code: DSS1920"
   ]
  },
  {
   "attachments": {},
   "cell_type": "markdown",
   "metadata": {},
   "source": [
    "**Course contents (tentative)**\n",
    " \n",
    "1. Introduction Decision Support Systems (~1 week)\n",
    "- Linear Programming and Intro to AMPL (~3 weeks)\n",
    "- Sensitivity Analysis (~1 week)\n",
    "- Network Modeling (~2 weeks) \n",
    "- (Mixed) Integer Programming (~2 weeks)\n",
    "- Large Scale Optimization (~1 week)\n",
    "- Non-linear Programming (~2 weeks)\n",
    "- Simulation and Queuing Theory (~2 weeks)"
   ]
  },
  {
   "cell_type": "markdown",
   "metadata": {},
   "source": [
    "we will use jupyter notebooks (information on wuecampus and tutorial)"
   ]
  },
  {
   "cell_type": "markdown",
   "metadata": {
    "slideshow": {
     "slide_type": "slide"
    }
   },
   "source": [
    "## Python and PuLP"
   ]
  },
  {
   "cell_type": "markdown",
   "metadata": {
    "slideshow": {
     "slide_type": "fragment"
    }
   },
   "source": [
    "In this set of notebooks we will be looking at some linear programming problems and how we can construct and solve these problems using the python linear programming package PuLP."
   ]
  }
 ],
 "metadata": {
  "celltoolbar": "Slideshow",
  "kernelspec": {
   "display_name": "Python 3",
   "language": "python",
   "name": "python3"
  },
  "language_info": {
   "codemirror_mode": {
    "name": "ipython",
    "version": 3
   },
   "file_extension": ".py",
   "mimetype": "text/x-python",
   "name": "python",
   "nbconvert_exporter": "python",
   "pygments_lexer": "ipython3",
   "version": "3.7.1"
  },
  "rise": {
   "enable_chalkboard": false,
   "overlay": "<div class='background'></div><div class='header'>WS 19/20</br>PDS</div><div class='logo'><img src='images/unilogo.png'></div><div class='bar'></div>",
   "scroll": true,
   "slideNumber": "h.v"
  },
  "toc": {
   "base_numbering": 1,
   "nav_menu": {},
   "number_sections": true,
   "sideBar": true,
   "skip_h1_title": true,
   "title_cell": "Table of Contents",
   "title_sidebar": "Contents",
   "toc_cell": true,
   "toc_position": {},
   "toc_section_display": true,
   "toc_window_display": false
  }
 },
 "nbformat": 4,
 "nbformat_minor": 2
}
